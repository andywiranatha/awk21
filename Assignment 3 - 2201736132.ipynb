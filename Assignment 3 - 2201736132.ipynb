{
  "nbformat": 4,
  "nbformat_minor": 0,
  "metadata": {
    "colab": {
      "name": "Untitled3.ipynb",
      "provenance": []
    },
    "kernelspec": {
      "name": "python3",
      "display_name": "Python 3"
    }
  },
  "cells": [
    {
      "cell_type": "code",
      "metadata": {
        "id": "ikfmY0FJKBRC",
        "colab_type": "code",
        "colab": {}
      },
      "source": [
        "from google.colab import files\n",
        "uploaded = files.upload()"
      ],
      "execution_count": 0,
      "outputs": []
    },
    {
      "cell_type": "code",
      "metadata": {
        "id": "G_vaDytfK1pi",
        "colab_type": "code",
        "colab": {}
      },
      "source": [
        "import pandas as pd\n",
        "import numpy as np"
      ],
      "execution_count": 0,
      "outputs": []
    },
    {
      "cell_type": "code",
      "metadata": {
        "id": "FYngHgjNKakz",
        "colab_type": "code",
        "colab": {}
      },
      "source": [
        "IrisData = pd.read_csv(\"listings.csv\")\n",
        "print(IrisData.dtypes)\n",
        "print(IrisData.isna().values.any())"
      ],
      "execution_count": 0,
      "outputs": []
    },
    {
      "cell_type": "code",
      "metadata": {
        "id": "gq2Ila2WLamG",
        "colab_type": "code",
        "colab": {}
      },
      "source": [
        "newIrisDataCont = IrisData[[\"latitude\", \"longitude\", \"price\", \"number_of_reviews\", \"reviews_per_month\", \"calculated_host_listings_count\", \"availability_365\"]]\n",
        "newIrisDataDisc = IrisData[[\"minimum_nights\"]]\n",
        "\n",
        "print(\"Continuous Data : \\n\\n{}\\n\".format(newIrisDataCont.head()))\n",
        "print(\"Discrete Data : \\n\\n{}\".format(newIrisDataDisc.head()))"
      ],
      "execution_count": 0,
      "outputs": []
    },
    {
      "cell_type": "code",
      "metadata": {
        "id": "IHbrGju9NWQf",
        "colab_type": "code",
        "colab": {
          "base_uri": "https://localhost:8080/",
          "height": 554
        },
        "outputId": "18efe698-b014-46cb-d302-3ab0b673b310"
      },
      "source": [
        "print(\"Mean of Continuous Data = \\n{}\\n\\n\".format(newIrisDataCont.mean()))\n",
        "print(\"Variance of Continuous Data = \\n{}\\n\\n\".format(np.var(newIrisDataCont)))\n",
        "\n",
        "print(\"Mean of Discrete Data = \\n{}\\n\\n\".format(newIrisDataDisc.mean()))\n",
        "print(\"Variance of Continuous Data = \\n{}\\n\\n\".format(np.var(newIrisDataDisc)))"
      ],
      "execution_count": 16,
      "outputs": [
        {
          "output_type": "stream",
          "text": [
            "Mean of Continuous Data = \n",
            "latitude                            1.314192\n",
            "longitude                         103.848787\n",
            "price                             169.332996\n",
            "number_of_reviews                  12.807386\n",
            "reviews_per_month                   1.043669\n",
            "calculated_host_listings_count     40.607689\n",
            "availability_365                  208.726318\n",
            "dtype: float64\n",
            "\n",
            "\n",
            "Variance of Continuous Data = \n",
            "latitude                               0.000935\n",
            "longitude                              0.001907\n",
            "price                             115712.966513\n",
            "number_of_reviews                    882.438554\n",
            "reviews_per_month                      1.653092\n",
            "calculated_host_listings_count      4242.064633\n",
            "availability_365                   21348.364203\n",
            "dtype: float64\n",
            "\n",
            "\n",
            "Mean of Discrete Data = \n",
            "minimum_nights    17.510054\n",
            "dtype: float64\n",
            "\n",
            "\n",
            "Variance of Continuous Data = \n",
            "minimum_nights    1771.732636\n",
            "dtype: float64\n",
            "\n",
            "\n"
          ],
          "name": "stdout"
        }
      ]
    }
  ]
}
{
  "nbformat": 4,
  "nbformat_minor": 0,
  "metadata": {
    "colab": {
      "name": "Untitled1.ipynb",
      "provenance": []
    },
    "kernelspec": {
      "name": "python3",
      "display_name": "Python 3"
    }
  },
  "cells": [
    {
      "cell_type": "code",
      "metadata": {
        "id": "Z2u7QLX9nR4h",
        "colab_type": "code",
        "colab": {}
      },
      "source": [
        "from google.colab import files\n",
        "uploaded = files.upload()"
      ],
      "execution_count": 0,
      "outputs": []
    },
    {
      "cell_type": "code",
      "metadata": {
        "id": "4hIImrRRn7sn",
        "colab_type": "code",
        "colab": {}
      },
      "source": [
        "import pandas as pd\n",
        "irisData = pd.read_csv(\"listings.csv\", delimiter = \",\")\n",
        "print(irisData.head())"
      ],
      "execution_count": 0,
      "outputs": []
    },
    {
      "cell_type": "code",
      "metadata": {
        "id": "3UFQz3Xyob2j",
        "colab_type": "code",
        "colab": {}
      },
      "source": [
        "import matplotlib.pyplot as plt\n",
        "from sklearn import linear_model\n",
        "from sklearn.model_selection import train_test_split\n",
        "import numpy as np\n",
        "import seaborn as sb\n",
        "from sklearn.metrics import r2_score, mean_squared_error, mean_absolute_error"
      ],
      "execution_count": 0,
      "outputs": []
    },
    {
      "cell_type": "code",
      "metadata": {
        "id": "EXJcQCHKohEX",
        "colab_type": "code",
        "colab": {}
      },
      "source": [
        "newIrisData = irisData[[\"id\", \"name\", \"host_id\", \"host_name\", \"neighbourhood_group\", \"neighbourhood\", \"latitude\", \"longitude\", \"room_type\", \"price\", \"minimum_nights\", \"number_of_reviews\", \"last_review\", \"reviews_per_month\", \"calculated_host_listings_count\", \"availability_365\"]]\n",
        "print(newIrisData.head())\n",
        "newIrisData.hist()\n",
        "plt.subplots_adjust(hspace = 0.5, wspace = 0.5)\n",
        "plt.rcParams[\"figure.figsize\"] = [16,9]\n",
        "plt.show()"
      ],
      "execution_count": 0,
      "outputs": []
    },
    {
      "cell_type": "code",
      "metadata": {
        "id": "Lhb5tEQutbdz",
        "colab_type": "code",
        "colab": {}
      },
      "source": [
        "train, test = train_test_split(newIrisData, test_size=0.2)\n",
        "regression = linear_model.LinearRegression()\n",
        "regression.fit(train[[\"price\"]], train[[\"availability_365\"]])\n",
        "print('Coefficients: ', regression.coef_)\n",
        "print('Intercept: ',regression.intercept_)"
      ],
      "execution_count": 0,
      "outputs": []
    },
    {
      "cell_type": "code",
      "metadata": {
        "id": "6ZzqKrDZuzq-",
        "colab_type": "code",
        "colab": {}
      },
      "source": [
        "plt.scatter(train[\"price\"], train[\"availability_365\"],  color='blue')\n",
        "plt.plot(train[[\"price\"]], regression.coef_ * train[[\"price\"]] + regression.intercept_, '-r', color='pink')\n",
        "plt.xlabel(\"Price\")\n",
        "plt.ylabel(\"Availability 365\")\n",
        "plt.rcParams[\"figure.figsize\"] = [9,7]\n",
        "plt.show()"
      ],
      "execution_count": 0,
      "outputs": []
    },
    {
      "cell_type": "code",
      "metadata": {
        "id": "jNS9-bmvvHMs",
        "colab_type": "code",
        "colab": {}
      },
      "source": [
        "sb.pairplot(train)\n",
        "sb.lmplot(\"price\", \"availability_365\", data = train)\n",
        "plt.show()"
      ],
      "execution_count": 0,
      "outputs": []
    },
    {
      "cell_type": "code",
      "metadata": {
        "id": "94cGb7jGvQVL",
        "colab_type": "code",
        "colab": {}
      },
      "source": [
        "prediction = regression.predict(test[[\"price\"]])\n",
        "for i in range(len(test)):\n",
        "  print(test[[\"price\"]].values[i], prediction[i])\n",
        "\n",
        "print(\"MAE : \", mean_absolute_error(test[[\"availability_365\"]], prediction))\n",
        "print(\"MSE : \", mean_squared_error(test[[\"availability_365\"]], prediction))\n",
        "print(\"R2 : \", r2_score(test[[\"availability_365\"]], prediction))"
      ],
      "execution_count": 0,
      "outputs": []
    },
    {
      "cell_type": "code",
      "metadata": {
        "id": "pPmCXsigvcHm",
        "colab_type": "code",
        "colab": {}
      },
      "source": [
        "import pandas as pd\n",
        "import numpy as np\n",
        "from sklearn.neighbors import KNeighborsClassifier\n",
        "from sklearn.metrics import accuracy_score, mean_squared_error, mean_absolute_error\n",
        "from sklearn import preprocessing\n",
        "from sklearn.model_selection import train_test_split"
      ],
      "execution_count": 0,
      "outputs": []
    },
    {
      "cell_type": "code",
      "metadata": {
        "id": "etx1iGqEve5W",
        "colab_type": "code",
        "colab": {}
      },
      "source": [
        "for i in irisData:\n",
        "  print(i, irisData[i].dtypes)\n",
        "  if irisData[i].isna().values.any() and irisData[i].dtypes != object:\n",
        "      irisData[i] = irisData[i].fillna(irisData[i].mean())\n",
        "\n",
        "train, test = train_test_split(irisData, test_size=0.1)"
      ],
      "execution_count": 0,
      "outputs": []
    },
    {
      "cell_type": "code",
      "metadata": {
        "id": "A4gblcKGw_fA",
        "colab_type": "code",
        "colab": {}
      },
      "source": [
        "KNN = KNeighborsClassifier(n_neighbors = 3).fit(train[[\"price\", \"number_of_reviews\"]], train[\"availability_365\"])"
      ],
      "execution_count": 0,
      "outputs": []
    },
    {
      "cell_type": "code",
      "metadata": {
        "id": "mcSDWR4SxPco",
        "colab_type": "code",
        "colab": {}
      },
      "source": [
        "newClassification = KNN.predict([[17,8],[8,10]])\n",
        "print(newClassification)\n",
        "\n",
        "classification = KNN.predict(test[[\"price\", \"number_of_reviews\"]])\n",
        "accuracy = accuracy_score(test[\"availability_365\"], classification)\n",
        "MAE = mean_absolute_error(test[\"availability_365\"], classification)\n",
        "MSE = mean_squared_error(test[\"availability_365\"], classification)\n",
        "\n",
        "print(\" ACC : %.2f\" % accuracy)\n",
        "print(\" MAE : %.2f\" % MAE)\n",
        "print(\" MSE : %.2f\" % MSE)"
      ],
      "execution_count": 0,
      "outputs": []
    },
    {
      "cell_type": "code",
      "metadata": {
        "id": "wtszNGgaxajv",
        "colab_type": "code",
        "colab": {
          "base_uri": "https://localhost:8080/",
          "height": 34
        },
        "outputId": "7f16a44d-e611-4e62-a158-852a8ce02fb9"
      },
      "source": [
        "Ks = 10\n",
        "accuracy = np.zeros((Ks-1))\n",
        "ConfustionMx = [];\n",
        "for n in range(1, Ks):    \n",
        "    KNN = KNeighborsClassifier(n_neighbors = n).fit(train[[\"price\", \"number_of_reviews\"]], train[\"availability_365\"])  \n",
        "    classification = KNN.predict(test[[\"price\", \"number_of_reviews\"]])\n",
        "    accuracy[n - 1] = accuracy_score(test[\"availability_365\"], classification)\n",
        "    \n",
        "print(\"Best  ACC : %.2f\" % accuracy.max(), \", with k = \", accuracy.argmax() + 1)"
      ],
      "execution_count": 24,
      "outputs": [
        {
          "output_type": "stream",
          "text": [
            "Best  ACC : 0.18 , with k =  9\n"
          ],
          "name": "stdout"
        }
      ]
    }
  ]
}
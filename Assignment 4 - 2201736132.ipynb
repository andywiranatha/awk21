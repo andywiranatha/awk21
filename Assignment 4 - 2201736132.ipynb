{
  "nbformat": 4,
  "nbformat_minor": 0,
  "metadata": {
    "colab": {
      "name": "Untitled4.ipynb",
      "provenance": []
    },
    "kernelspec": {
      "name": "python3",
      "display_name": "Python 3"
    }
  },
  "cells": [
    {
      "cell_type": "code",
      "metadata": {
        "id": "aG-OuNvE4u4_",
        "colab_type": "code",
        "colab": {}
      },
      "source": [
        "from google.colab import files\n",
        "uploaded = files.upload()"
      ],
      "execution_count": 0,
      "outputs": []
    },
    {
      "cell_type": "code",
      "metadata": {
        "id": "KrRSPNsg4F61",
        "colab_type": "code",
        "colab": {}
      },
      "source": [
        "import numpy as np\n",
        "import pandas as pd\n",
        "import matplotlib.pyplot as plt\n",
        "from scipy.stats import norm"
      ],
      "execution_count": 0,
      "outputs": []
    },
    {
      "cell_type": "code",
      "metadata": {
        "id": "LjJzOkMo4rsC",
        "colab_type": "code",
        "colab": {}
      },
      "source": [
        "IrisData = pd.read_csv(\"listings.csv\")\n",
        "print(IrisData.dtypes)\n",
        "print(IrisData.isna().values.any())"
      ],
      "execution_count": 0,
      "outputs": []
    },
    {
      "cell_type": "code",
      "metadata": {
        "colab_type": "code",
        "id": "elrdo6M36y-e",
        "colab": {}
      },
      "source": [
        "newIrisDataCont = IrisData[[\"latitude\", \"longitude\", \"price\", \"number_of_reviews\", \"reviews_per_month\", \"calculated_host_listings_count\", \"availability_365\"]].fillna(0).astype(int)\n",
        "newIrisDataDisc = IrisData[[\"minimum_nights\"]].astype(int)\n",
        "\n",
        "newIrisDataCont.hist()\n",
        "newIrisDataDisc.hist()\n",
        "\n",
        "plt.rcParams[\"figure.figsize\"] = [16,9]\n",
        "plt.subplots_adjust(hspace = 1, wspace = 1)\n",
        "plt.show()"
      ],
      "execution_count": 0,
      "outputs": []
    },
    {
      "cell_type": "code",
      "metadata": {
        "id": "KujDStqe8ZXU",
        "colab_type": "code",
        "colab": {}
      },
      "source": [
        "newIrisDataDisc.hist(bins = 20, density = True)"
      ],
      "execution_count": 0,
      "outputs": []
    },
    {
      "cell_type": "code",
      "metadata": {
        "id": "B4vNEwWs8g-L",
        "colab_type": "code",
        "colab": {}
      },
      "source": [
        "latitude = IrisData['latitude'].tolist()\n",
        "\n",
        "sLatitude = np.std(latitude)\n",
        "mLatitude = np.mean(latitude)\n",
        "\n",
        "distributeLatitude = norm(mLatitude, sLatitude)\n",
        "\n",
        "minLatitude = min(latitude)\n",
        "maxLatitude = max(latitude)\n",
        "\n",
        "valueLatitude = list(range(int(minLatitude), int(maxLatitude)))\n",
        "\n",
        "probabilityLatitude = [distributeLatitude.pdf(valat) for valat in valueLatitude]\n",
        "\n",
        "plt.hist(latitude, density = True)\n",
        "plt.plot(valueLatitude, probabilityLatitude)"
      ],
      "execution_count": 0,
      "outputs": []
    },
    {
      "cell_type": "code",
      "metadata": {
        "id": "_g-y-jM7-Rkd",
        "colab_type": "code",
        "colab": {}
      },
      "source": [
        "longitude = IrisData['longitude'].tolist()\n",
        "\n",
        "sLongitude = np.std(longitude)\n",
        "mLongitude = np.mean(longitude)\n",
        "\n",
        "distributeLongitude = norm(mLongitude, sLongitude)\n",
        "\n",
        "minLongitude = min(longitude)\n",
        "maxLongitude = max(longitude)\n",
        "\n",
        "valueLongitude = list(range(int(minLongitude), int(maxLongitude)))\n",
        "\n",
        "probabilityLongitude = [distributeLongitude.pdf(valong) for valong in valueLongitude]\n",
        "\n",
        "plt.hist(longitude, density = True)\n",
        "plt.plot(valueLongitude, probabilityLongitude)"
      ],
      "execution_count": 0,
      "outputs": []
    },
    {
      "cell_type": "code",
      "metadata": {
        "id": "P4wy4WmX_Xh4",
        "colab_type": "code",
        "colab": {}
      },
      "source": [
        "price = IrisData['price'].tolist()\n",
        "\n",
        "sPrice = np.std(price)\n",
        "mPrice = np.mean(price)\n",
        "\n",
        "distributePrice = norm(mPrice, sPrice)\n",
        "\n",
        "minPrice = min(price)\n",
        "maxPrice = max(price)\n",
        "\n",
        "valuePrice = list(range(int(minPrice), int(maxPrice)))\n",
        "\n",
        "probabilityPrice = [distributePrice.pdf(vapri) for vapri in valuePrice]\n",
        "\n",
        "plt.hist(price, density = True)\n",
        "plt.plot(valuePrice, probabilityPrice)"
      ],
      "execution_count": 0,
      "outputs": []
    },
    {
      "cell_type": "code",
      "metadata": {
        "id": "j9PQjf-AA34t",
        "colab_type": "code",
        "colab": {}
      },
      "source": [
        "nor = IrisData['number_of_reviews'].tolist()\n",
        "\n",
        "sNor = np.std(nor)\n",
        "mNor = np.mean(nor)\n",
        "\n",
        "distributeNor = norm(mNor, sNor)\n",
        "\n",
        "minNor = min(nor)\n",
        "maxNor = max(nor)\n",
        "\n",
        "valueNor = list(range(int(minNor), int(maxNor)))\n",
        "\n",
        "probabilityNor = [distributeNor.pdf(vanor) for vanor in valueNor]\n",
        "\n",
        "plt.hist(nor, density = True)\n",
        "plt.plot(valueNor, probabilityNor)"
      ],
      "execution_count": 0,
      "outputs": []
    },
    {
      "cell_type": "code",
      "metadata": {
        "id": "8VWlIP-yBZT9",
        "colab_type": "code",
        "colab": {}
      },
      "source": [
        "rpm = IrisData['reviews_per_month'].tolist()\n",
        "\n",
        "sRpm = np.std(rpm)\n",
        "mRpm = np.mean(rpm)\n",
        "\n",
        "distributeRpm = norm(mRpm, sRpm)\n",
        "\n",
        "minRpm = min(rpm)\n",
        "maxRpm = max(rpm)\n",
        "\n",
        "valueRpm = list(range(int(minRpm), int(maxRpm)))\n",
        "\n",
        "probabilityRpm = [distributeRpm.pdf(varpm) for varpm in valueRpm]\n",
        "\n",
        "plt.hist(rpm, density = True)\n",
        "plt.plot(valueRpm, probabilityRpm)"
      ],
      "execution_count": 0,
      "outputs": []
    },
    {
      "cell_type": "code",
      "metadata": {
        "id": "eGshgm08B0A0",
        "colab_type": "code",
        "colab": {}
      },
      "source": [
        "chlc = IrisData['calculated_host_listings_count'].tolist()\n",
        "\n",
        "sChlc = np.std(chlc)\n",
        "mChlc = np.mean(chlc)\n",
        "\n",
        "distributeChlc = norm(mChlc, sChlc)\n",
        "\n",
        "minChlc = min(chlc)\n",
        "maxChlc = max(chlc)\n",
        "\n",
        "valueChlc = list(range(int(minChlc), int(maxChlc)))\n",
        "\n",
        "probabilityChlc = [distributeChlc.pdf(vachlc) for vachlc in valueChlc]\n",
        "\n",
        "plt.hist(chlc, density = True)\n",
        "plt.plot(valueChlc, probabilityChlc)"
      ],
      "execution_count": 0,
      "outputs": []
    },
    {
      "cell_type": "code",
      "metadata": {
        "id": "Kkdy3H8BCL34",
        "colab_type": "code",
        "colab": {}
      },
      "source": [
        "a365 = IrisData['availability_365'].tolist()\n",
        "\n",
        "sA365 = np.std(a365)\n",
        "mA365 = np.mean(a365)\n",
        "\n",
        "distributeA365 = norm(mA365, sA365)\n",
        "\n",
        "minA365 = min(a365)\n",
        "maxA365 = max(a365)\n",
        "\n",
        "valueA365 = list(range(int(minA365), int(maxA365)))\n",
        "\n",
        "probabilityA365 = [distributeA365.pdf(vaa365) for vaa365 in valueA365]\n",
        "\n",
        "plt.hist(a365, density = True)\n",
        "plt.plot(valueA365, probabilityA365)"
      ],
      "execution_count": 0,
      "outputs": []
    }
  ]
}